{
 "cells": [
  {
   "cell_type": "markdown",
   "metadata": {},
   "source": [
    "# This is a Jupyter notebook for David Dobrinskiy's HSE Thesis\n",
    "## How Venture Capital Affects Startups' Success\n"
   ]
  },
  {
   "cell_type": "code",
   "execution_count": 7,
   "metadata": {
    "collapsed": false
   },
   "outputs": [
    {
     "name": "stdout",
     "output_type": "stream",
     "text": [
      "3.5.2 | packaged by conda-forge | (default, Jul 26 2016, 01:37:38) \n",
      "[GCC 4.2.1 Compatible Apple LLVM 6.0 (clang-600.0.54)]\n"
     ]
    }
   ],
   "source": [
    "# You should be running python3\n",
    "\n",
    "import sys\n",
    "print(sys.version)"
   ]
  },
  {
   "cell_type": "code",
   "execution_count": 8,
   "metadata": {
    "collapsed": false
   },
   "outputs": [
    {
     "name": "stdout",
     "output_type": "stream",
     "text": [
      "Pandas Version: 0.19.0\n",
      "StatsModels Version: 0.6.1\n"
     ]
    }
   ],
   "source": [
    "import pandas as pd  # http://pandas.pydata.org/\n",
    "import numpy as np   # http://numpy.org/\n",
    "\n",
    "import statsmodels.api as sm  # http://statsmodels.sourceforge.net/stable/index.html\n",
    "import statsmodels.formula.api as smf\n",
    "import statsmodels\n",
    "\n",
    "print(\"Pandas Version: {}\".format(pd.__version__))          # pandas version\n",
    "print(\"StatsModels Version: {}\".format(statsmodels.__version__))  # StatsModels version"
   ]
  },
  {
   "cell_type": "markdown",
   "metadata": {},
   "source": [
    "### Let us look at the dynamics of total US VC investment"
   ]
  },
  {
   "cell_type": "code",
   "execution_count": 9,
   "metadata": {
    "collapsed": false
   },
   "outputs": [],
   "source": [
    "# load the pwc dataset from azure\n",
    "\n",
    "\n",
    "\n",
    "frame = pd.read_csv('pwc_moneytree.csv')"
   ]
  },
  {
   "cell_type": "code",
   "execution_count": 10,
   "metadata": {
    "collapsed": false,
    "scrolled": true
   },
   "outputs": [
    {
     "data": {
      "text/html": [
       "<div>\n",
       "<table border=\"1\" class=\"dataframe\">\n",
       "  <thead>\n",
       "    <tr style=\"text-align: right;\">\n",
       "      <th></th>\n",
       "      <th>Quarter</th>\n",
       "      <th>Unnamed: 1</th>\n",
       "      <th>1</th>\n",
       "      <th>2</th>\n",
       "      <th>3</th>\n",
       "      <th>4</th>\n",
       "      <th>Grand Total</th>\n",
       "    </tr>\n",
       "  </thead>\n",
       "  <tbody>\n",
       "    <tr>\n",
       "      <th>0</th>\n",
       "      <td>1995.0</td>\n",
       "      <td># of Deals</td>\n",
       "      <td>503</td>\n",
       "      <td>466</td>\n",
       "      <td>434</td>\n",
       "      <td>494</td>\n",
       "      <td>1,897</td>\n",
       "    </tr>\n",
       "    <tr>\n",
       "      <th>1</th>\n",
       "      <td>NaN</td>\n",
       "      <td>Amount Invested</td>\n",
       "      <td>$1,690,040,500</td>\n",
       "      <td>$2,546,374,500</td>\n",
       "      <td>$1,709,754,500</td>\n",
       "      <td>$2,070,353,900</td>\n",
       "      <td>$8,016,523,400</td>\n",
       "    </tr>\n",
       "    <tr>\n",
       "      <th>2</th>\n",
       "      <td>1996.0</td>\n",
       "      <td># of Deals</td>\n",
       "      <td>585</td>\n",
       "      <td>671</td>\n",
       "      <td>604</td>\n",
       "      <td>775</td>\n",
       "      <td>2,635</td>\n",
       "    </tr>\n",
       "    <tr>\n",
       "      <th>3</th>\n",
       "      <td>NaN</td>\n",
       "      <td>Amount Invested</td>\n",
       "      <td>$2,437,964,900</td>\n",
       "      <td>$3,017,298,000</td>\n",
       "      <td>$2,606,841,300</td>\n",
       "      <td>$3,223,318,800</td>\n",
       "      <td>$11,285,423,000</td>\n",
       "    </tr>\n",
       "    <tr>\n",
       "      <th>4</th>\n",
       "      <td>1997.0</td>\n",
       "      <td># of Deals</td>\n",
       "      <td>773</td>\n",
       "      <td>778</td>\n",
       "      <td>762</td>\n",
       "      <td>919</td>\n",
       "      <td>3,232</td>\n",
       "    </tr>\n",
       "  </tbody>\n",
       "</table>\n",
       "</div>"
      ],
      "text/plain": [
       "   Quarter       Unnamed: 1               1               2               3  \\\n",
       "0   1995.0       # of Deals             503             466             434   \n",
       "1      NaN  Amount Invested  $1,690,040,500  $2,546,374,500  $1,709,754,500   \n",
       "2   1996.0       # of Deals             585             671             604   \n",
       "3      NaN  Amount Invested  $2,437,964,900  $3,017,298,000  $2,606,841,300   \n",
       "4   1997.0       # of Deals             773             778             762   \n",
       "\n",
       "                4      Grand Total  \n",
       "0             494            1,897  \n",
       "1  $2,070,353,900   $8,016,523,400  \n",
       "2             775            2,635  \n",
       "3  $3,223,318,800  $11,285,423,000  \n",
       "4             919            3,232  "
      ]
     },
     "execution_count": 10,
     "metadata": {},
     "output_type": "execute_result"
    }
   ],
   "source": [
    "frame.head()"
   ]
  },
  {
   "cell_type": "code",
   "execution_count": 11,
   "metadata": {
    "collapsed": false,
    "scrolled": true
   },
   "outputs": [
    {
     "data": {
      "text/html": [
       "<div>\n",
       "<table border=\"1\" class=\"dataframe\">\n",
       "  <thead>\n",
       "    <tr style=\"text-align: right;\">\n",
       "      <th></th>\n",
       "      <th>year</th>\n",
       "      <th>type</th>\n",
       "      <th>q1</th>\n",
       "      <th>q2</th>\n",
       "      <th>q3</th>\n",
       "      <th>q4</th>\n",
       "    </tr>\n",
       "  </thead>\n",
       "  <tbody>\n",
       "    <tr>\n",
       "      <th>0</th>\n",
       "      <td>1995.0</td>\n",
       "      <td># of Deals</td>\n",
       "      <td>503</td>\n",
       "      <td>466</td>\n",
       "      <td>434</td>\n",
       "      <td>494</td>\n",
       "    </tr>\n",
       "    <tr>\n",
       "      <th>1</th>\n",
       "      <td>1995.0</td>\n",
       "      <td>Amount Invested</td>\n",
       "      <td>$1,690,040,500</td>\n",
       "      <td>$2,546,374,500</td>\n",
       "      <td>$1,709,754,500</td>\n",
       "      <td>$2,070,353,900</td>\n",
       "    </tr>\n",
       "    <tr>\n",
       "      <th>2</th>\n",
       "      <td>1996.0</td>\n",
       "      <td># of Deals</td>\n",
       "      <td>585</td>\n",
       "      <td>671</td>\n",
       "      <td>604</td>\n",
       "      <td>775</td>\n",
       "    </tr>\n",
       "    <tr>\n",
       "      <th>3</th>\n",
       "      <td>1996.0</td>\n",
       "      <td>Amount Invested</td>\n",
       "      <td>$2,437,964,900</td>\n",
       "      <td>$3,017,298,000</td>\n",
       "      <td>$2,606,841,300</td>\n",
       "      <td>$3,223,318,800</td>\n",
       "    </tr>\n",
       "    <tr>\n",
       "      <th>4</th>\n",
       "      <td>1997.0</td>\n",
       "      <td># of Deals</td>\n",
       "      <td>773</td>\n",
       "      <td>778</td>\n",
       "      <td>762</td>\n",
       "      <td>919</td>\n",
       "    </tr>\n",
       "  </tbody>\n",
       "</table>\n",
       "</div>"
      ],
      "text/plain": [
       "     year             type              q1              q2              q3  \\\n",
       "0  1995.0       # of Deals             503             466             434   \n",
       "1  1995.0  Amount Invested  $1,690,040,500  $2,546,374,500  $1,709,754,500   \n",
       "2  1996.0       # of Deals             585             671             604   \n",
       "3  1996.0  Amount Invested  $2,437,964,900  $3,017,298,000  $2,606,841,300   \n",
       "4  1997.0       # of Deals             773             778             762   \n",
       "\n",
       "               q4  \n",
       "0             494  \n",
       "1  $2,070,353,900  \n",
       "2             775  \n",
       "3  $3,223,318,800  \n",
       "4             919  "
      ]
     },
     "execution_count": 11,
     "metadata": {},
     "output_type": "execute_result"
    }
   ],
   "source": [
    "del frame['Grand Total']\n",
    "frame.columns = ['year', 'type', 'q1', 'q2', 'q3', 'q4']\n",
    "frame['year'] = frame['year'].fillna(method='ffill')\n",
    "frame.head()"
   ]
  },
  {
   "cell_type": "markdown",
   "metadata": {},
   "source": [
    "Deals and investments are in alternating rows of **frame**, let's separate them"
   ]
  },
  {
   "cell_type": "code",
   "execution_count": 12,
   "metadata": {
    "collapsed": false
   },
   "outputs": [],
   "source": [
    "      deals_df = frame.iloc[0::2]\n",
    "investments_df = frame.iloc[1::2]"
   ]
  },
  {
   "cell_type": "code",
   "execution_count": 13,
   "metadata": {
    "collapsed": true
   },
   "outputs": [],
   "source": [
    "# once separated, 'type' field is identical within each df\n",
    "# let's delete it\n",
    "\n",
    "del       deals_df['type']\n",
    "del investments_df['type']"
   ]
  },
  {
   "cell_type": "code",
   "execution_count": 14,
   "metadata": {
    "collapsed": false
   },
   "outputs": [
    {
     "data": {
      "text/html": [
       "<div>\n",
       "<table border=\"1\" class=\"dataframe\">\n",
       "  <thead>\n",
       "    <tr style=\"text-align: right;\">\n",
       "      <th></th>\n",
       "      <th>year</th>\n",
       "      <th>q1</th>\n",
       "      <th>q2</th>\n",
       "      <th>q3</th>\n",
       "      <th>q4</th>\n",
       "    </tr>\n",
       "  </thead>\n",
       "  <tbody>\n",
       "    <tr>\n",
       "      <th>0</th>\n",
       "      <td>1995.0</td>\n",
       "      <td>503</td>\n",
       "      <td>466</td>\n",
       "      <td>434</td>\n",
       "      <td>494</td>\n",
       "    </tr>\n",
       "    <tr>\n",
       "      <th>2</th>\n",
       "      <td>1996.0</td>\n",
       "      <td>585</td>\n",
       "      <td>671</td>\n",
       "      <td>604</td>\n",
       "      <td>775</td>\n",
       "    </tr>\n",
       "    <tr>\n",
       "      <th>4</th>\n",
       "      <td>1997.0</td>\n",
       "      <td>773</td>\n",
       "      <td>778</td>\n",
       "      <td>762</td>\n",
       "      <td>919</td>\n",
       "    </tr>\n",
       "    <tr>\n",
       "      <th>6</th>\n",
       "      <td>1998.0</td>\n",
       "      <td>871</td>\n",
       "      <td>912</td>\n",
       "      <td>931</td>\n",
       "      <td>1,030</td>\n",
       "    </tr>\n",
       "    <tr>\n",
       "      <th>8</th>\n",
       "      <td>1999.0</td>\n",
       "      <td>936</td>\n",
       "      <td>1,330</td>\n",
       "      <td>1,448</td>\n",
       "      <td>1,892</td>\n",
       "    </tr>\n",
       "  </tbody>\n",
       "</table>\n",
       "</div>"
      ],
      "text/plain": [
       "     year   q1     q2     q3     q4\n",
       "0  1995.0  503    466    434    494\n",
       "2  1996.0  585    671    604    775\n",
       "4  1997.0  773    778    762    919\n",
       "6  1998.0  871    912    931  1,030\n",
       "8  1999.0  936  1,330  1,448  1,892"
      ]
     },
     "execution_count": 14,
     "metadata": {},
     "output_type": "execute_result"
    }
   ],
   "source": [
    "deals_df.head()"
   ]
  },
  {
   "cell_type": "code",
   "execution_count": 15,
   "metadata": {
    "collapsed": false
   },
   "outputs": [
    {
     "data": {
      "text/html": [
       "<div>\n",
       "<table border=\"1\" class=\"dataframe\">\n",
       "  <thead>\n",
       "    <tr style=\"text-align: right;\">\n",
       "      <th></th>\n",
       "      <th>year</th>\n",
       "      <th>q1</th>\n",
       "      <th>q2</th>\n",
       "      <th>q3</th>\n",
       "      <th>q4</th>\n",
       "    </tr>\n",
       "  </thead>\n",
       "  <tbody>\n",
       "    <tr>\n",
       "      <th>1</th>\n",
       "      <td>1995.0</td>\n",
       "      <td>$1,690,040,500</td>\n",
       "      <td>$2,546,374,500</td>\n",
       "      <td>$1,709,754,500</td>\n",
       "      <td>$2,070,353,900</td>\n",
       "    </tr>\n",
       "    <tr>\n",
       "      <th>3</th>\n",
       "      <td>1996.0</td>\n",
       "      <td>$2,437,964,900</td>\n",
       "      <td>$3,017,298,000</td>\n",
       "      <td>$2,606,841,300</td>\n",
       "      <td>$3,223,318,800</td>\n",
       "    </tr>\n",
       "    <tr>\n",
       "      <th>5</th>\n",
       "      <td>1997.0</td>\n",
       "      <td>$3,104,430,200</td>\n",
       "      <td>$3,691,566,400</td>\n",
       "      <td>$3,775,959,100</td>\n",
       "      <td>$4,499,598,900</td>\n",
       "    </tr>\n",
       "    <tr>\n",
       "      <th>7</th>\n",
       "      <td>1998.0</td>\n",
       "      <td>$4,199,545,200</td>\n",
       "      <td>$5,784,400,500</td>\n",
       "      <td>$5,412,295,700</td>\n",
       "      <td>$6,165,090,000</td>\n",
       "    </tr>\n",
       "    <tr>\n",
       "      <th>9</th>\n",
       "      <td>1999.0</td>\n",
       "      <td>$6,648,622,700</td>\n",
       "      <td>$11,315,434,200</td>\n",
       "      <td>$13,654,453,100</td>\n",
       "      <td>$23,340,087,500</td>\n",
       "    </tr>\n",
       "  </tbody>\n",
       "</table>\n",
       "</div>"
      ],
      "text/plain": [
       "     year              q1               q2               q3               q4\n",
       "1  1995.0  $1,690,040,500   $2,546,374,500   $1,709,754,500   $2,070,353,900\n",
       "3  1996.0  $2,437,964,900   $3,017,298,000   $2,606,841,300   $3,223,318,800\n",
       "5  1997.0  $3,104,430,200   $3,691,566,400   $3,775,959,100   $4,499,598,900\n",
       "7  1998.0  $4,199,545,200   $5,784,400,500   $5,412,295,700   $6,165,090,000\n",
       "9  1999.0  $6,648,622,700  $11,315,434,200  $13,654,453,100  $23,340,087,500"
      ]
     },
     "execution_count": 15,
     "metadata": {},
     "output_type": "execute_result"
    }
   ],
   "source": [
    "investments_df.head()"
   ]
  },
  {
   "cell_type": "code",
   "execution_count": 16,
   "metadata": {
    "collapsed": false
   },
   "outputs": [],
   "source": [
    "def unstack_to_series(df):\n",
    "    \"\"\"\n",
    "    Takes q1-q4 in a dataframe and converts it to a series\n",
    "    \n",
    "    input: a dataframe containing ['q1', 'q2', 'q3', 'q4']\n",
    "    \n",
    "    ouput: a pandas series\n",
    "    \"\"\"\n",
    "    quarters = ['q1', 'q2', 'q3', 'q4']\n",
    "    d = dict()\n",
    "    for i, row in df.iterrows():\n",
    "        for q in quarters:\n",
    "            key = str(int(row['year'])) + q\n",
    "            d[key] = row[q]\n",
    "\n",
    "            # print(key, q, row[q])\n",
    "    return pd.Series(d)"
   ]
  },
  {
   "cell_type": "code",
   "execution_count": 17,
   "metadata": {
    "collapsed": false
   },
   "outputs": [],
   "source": [
    "      deals = unstack_to_series(deals_df      ).dropna()\n",
    "investments = unstack_to_series(investments_df).dropna()"
   ]
  },
  {
   "cell_type": "code",
   "execution_count": 18,
   "metadata": {
    "collapsed": true
   },
   "outputs": [],
   "source": [
    "def string_to_int(money_string):\n",
    "    numerals = [c if c.isnumeric() else '' for c in money_string]\n",
    "    return int(''.join(numerals))"
   ]
  },
  {
   "cell_type": "code",
   "execution_count": 19,
   "metadata": {
    "collapsed": false
   },
   "outputs": [
    {
     "data": {
      "text/plain": [
       "2015q3    1189\n",
       "2015q4    1047\n",
       "2016q1    1021\n",
       "2016q2     999\n",
       "2016q3     891\n",
       "dtype: int64"
      ]
     },
     "execution_count": 19,
     "metadata": {},
     "output_type": "execute_result"
    }
   ],
   "source": [
    "# convert deals from string to integers\n",
    "deals = deals.apply(string_to_int)\n",
    "deals.tail()"
   ]
  },
  {
   "cell_type": "code",
   "execution_count": 20,
   "metadata": {
    "collapsed": false
   },
   "outputs": [
    {
     "data": {
      "text/plain": [
       "2015q3    16.71\n",
       "2015q4    12.34\n",
       "2016q1    12.64\n",
       "2016q2    15.57\n",
       "2016q3    10.63\n",
       "dtype: float64"
      ]
     },
     "execution_count": 20,
     "metadata": {},
     "output_type": "execute_result"
    }
   ],
   "source": [
    "# investment in billions USD\n",
    "# converts to integers - which is ok, since data is in dollars\n",
    "investments_b = investments.apply(string_to_int) \n",
    "# in python3 division automatically converts numbers to floats, we don't loose precicion\n",
    "investments_b = investments_b / 10**9\n",
    "# round data to 2 decimals\n",
    "investments_b = investments_b.apply(round, ndigits=2)\n",
    "investments_b.tail()"
   ]
  },
  {
   "cell_type": "markdown",
   "metadata": {},
   "source": [
    "### Plot data from MoneyTree report\n",
    "\n",
    "http://www.pwcmoneytree.com"
   ]
  },
  {
   "cell_type": "code",
   "execution_count": 23,
   "metadata": {
    "collapsed": false
   },
   "outputs": [
    {
     "data": {
      "image/png": "[encoded data removed]",
      "text/plain": [
       "<matplotlib.figure.Figure at 0x1108d5fd0>"
      ]
     },
     "metadata": {},
     "output_type": "display_data"
    }
   ],
   "source": [
    "import matplotlib.pyplot  as plt  # http://matplotlib.org/\n",
    "import matplotlib.patches as mpatches\n",
    "import matplotlib.ticker  as ticker\n",
    "%matplotlib inline\n",
    "\n",
    "# change matplotlib inline display size\n",
    "# import matplotlib.pylab as pylab\n",
    "# pylab.rcParams['figure.figsize'] = (8, 6)  # that's default image size for this interactive session\n",
    "\n",
    "fig, ax1 = plt.subplots()\n",
    "ax1.set_title(\"VC historical trend (US Data)\")\n",
    "t = range(len(investments_b))      # need to substitute tickers for years later\n",
    "width = t[1]-t[0]\n",
    "y1 = investments_b\n",
    "\n",
    "# create filled step chart for investment amount\n",
    "ax1.bar(t, y1, width=width, facecolor='0.80', edgecolor='', label = 'Investment ($ Bln.)')\n",
    "ax1.set_ylabel('Investment ($ Bln.)')\n",
    "\n",
    "# set up xlabels with years\n",
    "years = [str(year)[:-2] for year in deals.index][::4]  # get years without quarter \n",
    "ax1.set_xticks(t[::4])                   # set 1 tick per year\n",
    "ax1.set_xticklabels(years, rotation=50)  # set tick names\n",
    "ax1.set_xlabel('Year')                   # name X axis\n",
    "\n",
    "# format Y1 tickers to $ billions\n",
    "formatter = ticker.FormatStrFormatter('$%1.0f Bil.')\n",
    "ax1.yaxis.set_major_formatter(formatter)\n",
    "for tick in ax1.yaxis.get_major_ticks():\n",
    "    tick.label1On = False\n",
    "    tick.label2On = True\n",
    "\n",
    "# create second Y2 axis for Num of Deals\n",
    "ax2 = ax1.twinx()\n",
    "y2 = deals\n",
    "ax2.plot(t, y2, color = 'k', ls = '-', label = 'Num. of Deals')\n",
    "ax2.set_ylabel('Num. of Deals')\n",
    "\n",
    "# add annotation bubbles\n",
    "ax2.annotate('1997-2000 dot-com bubble', xy=(23, 2100), xytext=(3, 1800),\n",
    "                bbox=dict(boxstyle=\"round4\", fc=\"w\"),\n",
    "                arrowprops=dict(arrowstyle=\"-|>\",\n",
    "                                connectionstyle=\"arc3,rad=0.2\",\n",
    "                                fc=\"w\"),\n",
    "            )\n",
    "\n",
    "ax2.annotate('2007-08 Financial Crisis', xy=(57, 800), xytext=(40, 1300),\n",
    "                bbox=dict(boxstyle=\"round4\", fc=\"w\"),\n",
    "                arrowprops=dict(arrowstyle=\"-|>\",\n",
    "                                connectionstyle=\"arc3,rad=-0.2\",\n",
    "                                fc=\"w\"), \n",
    "            )\n",
    "\n",
    "\n",
    "# add legend\n",
    "ax1.legend(loc=\"best\")\n",
    "ax2.legend(bbox_to_anchor=(0.95, 0.88))\n",
    "\n",
    "fig.tight_layout()  # solves cropping problems when saving png\n",
    "fig.savefig('vc_trend_3.png', dpi=250)\n",
    "\n",
    "\n",
    "plt.show()"
   ]
  },
  {
   "cell_type": "code",
   "execution_count": 22,
   "metadata": {
    "collapsed": false
   },
   "outputs": [
    {
     "ename": "NameError",
     "evalue": "name 'ws' is not defined",
     "output_type": "error",
     "traceback": [
      "\u001b[0;31m---------------------------------------------------------------------------\u001b[0m",
      "\u001b[0;31mNameError\u001b[0m                                 Traceback (most recent call last)",
      "\u001b[0;32m<ipython-input-22-3291b42f67a8>\u001b[0m in \u001b[0;36m<module>\u001b[0;34m()\u001b[0m\n\u001b[1;32m      1\u001b[0m \u001b[0;31m# load countries dataset from azure\u001b[0m\u001b[0;34m\u001b[0m\u001b[0;34m\u001b[0m\u001b[0m\n\u001b[0;32m----> 2\u001b[0;31m \u001b[0mds\u001b[0m \u001b[0;34m=\u001b[0m \u001b[0mws\u001b[0m\u001b[0;34m.\u001b[0m\u001b[0mdatasets\u001b[0m\u001b[0;34m[\u001b[0m\u001b[0;34m'country_data.csv'\u001b[0m\u001b[0;34m]\u001b[0m\u001b[0;34m\u001b[0m\u001b[0m\n\u001b[0m",
      "\u001b[0;31mNameError\u001b[0m: name 'ws' is not defined"
     ]
    }
   ],
   "source": [
    "# load countries dataset from azure\n",
    "ds = ws.datasets['country_data.csv']"
   ]
  },
  {
   "cell_type": "code",
   "execution_count": null,
   "metadata": {
    "collapsed": false
   },
   "outputs": [],
   "source": [
    "# data for 2015\n",
    "country_data = ds.to_dataframe()\n",
    "country_data"
   ]
  },
  {
   "cell_type": "code",
   "execution_count": null,
   "metadata": {
    "collapsed": true
   },
   "outputs": [],
   "source": [
    "def tex(df):\n",
    "    \"\"\"\n",
    "    Print dataframe contents in latex-ready format\n",
    "    \"\"\"\n",
    "    for line in df.to_latex().split('\\n'):\n",
    "        print(line)"
   ]
  },
  {
   "cell_type": "code",
   "execution_count": null,
   "metadata": {
    "collapsed": false
   },
   "outputs": [],
   "source": [
    "params = pd.DataFrame(country_data['Criteria'])\n",
    "params.index = ['y'] + ['X'+str(i) for i in range(1, len(country_data))]\n",
    "tex(params)"
   ]
  },
  {
   "cell_type": "code",
   "execution_count": null,
   "metadata": {
    "collapsed": false
   },
   "outputs": [],
   "source": [
    "# set index\n",
    "country_data = country_data.set_index('Criteria')\n",
    "# convert values to floats (note: comas need to be replaced by dots for python conversion to work)\n",
    "country_data.index = ['y'] + ['X'+str(i) for i in range(1, len(country_data))]\n",
    "country_data"
   ]
  },
  {
   "cell_type": "markdown",
   "metadata": {
    "collapsed": true
   },
   "source": [
    "# prepare data for ols"
   ]
  },
  {
   "cell_type": "code",
   "execution_count": null,
   "metadata": {
    "collapsed": false
   },
   "outputs": [],
   "source": [
    "const = pd.Series([1]*len(country_data.columns), index = country_data.columns, name = 'X0')\n",
    "const"
   ]
  },
  {
   "cell_type": "code",
   "execution_count": null,
   "metadata": {
    "collapsed": false,
    "scrolled": false
   },
   "outputs": [],
   "source": [
    "country_data = pd.concat([pd.DataFrame(const).T, country_data])\n",
    "country_data = country_data.sort_index()\n",
    "country_data"
   ]
  },
  {
   "cell_type": "code",
   "execution_count": null,
   "metadata": {
    "collapsed": false
   },
   "outputs": [],
   "source": [
    "tex(country_data)"
   ]
  },
  {
   "cell_type": "code",
   "execution_count": null,
   "metadata": {
    "collapsed": false,
    "scrolled": true
   },
   "outputs": [],
   "source": [
    "y = country_data.iloc[-1,:]\n",
    "y"
   ]
  },
  {
   "cell_type": "code",
   "execution_count": null,
   "metadata": {
    "collapsed": false
   },
   "outputs": [],
   "source": [
    "X = country_data.iloc[:-1, :].T\n",
    "X"
   ]
  },
  {
   "cell_type": "code",
   "execution_count": null,
   "metadata": {
    "collapsed": false
   },
   "outputs": [],
   "source": [
    "# Fit regression model\n",
    "results = sm.OLS(y, X).fit()\n",
    "\n",
    "# Inspect the results in latex doc, {tab:vc_ols_1}\n",
    "print(results.summary())"
   ]
  },
  {
   "cell_type": "code",
   "execution_count": null,
   "metadata": {
    "collapsed": false
   },
   "outputs": [],
   "source": [
    "# Inspect the results in latex doc, {tab:vc_ols_1}\n",
    "print(results.summary().as_latex())"
   ]
  },
  {
   "cell_type": "code",
   "execution_count": null,
   "metadata": {
    "collapsed": false
   },
   "outputs": [],
   "source": [
    "# equation for eq:OLS_1_coeffs in LaTeX\n",
    "\n",
    "equation = 'Y ='\n",
    "for i, coeff in results.params.iteritems():\n",
    "    sign = '+' if coeff >= 0 else '-'\n",
    "    equation += ' ' + sign + str(abs(round(coeff,2))) + '*' + i\n",
    "print(equation)"
   ]
  },
  {
   "cell_type": "code",
   "execution_count": null,
   "metadata": {
    "collapsed": false,
    "scrolled": true
   },
   "outputs": [],
   "source": [
    "# correlation table\n",
    "corr = country_data.T.corr().iloc[1:,1:]\n",
    "corr = corr.applymap(lambda x: round(x, 2))\n",
    "corr"
   ]
  },
  {
   "cell_type": "code",
   "execution_count": null,
   "metadata": {
    "collapsed": false
   },
   "outputs": [],
   "source": [
    "# corr table to latex\n",
    "tex(corr)"
   ]
  },
  {
   "cell_type": "code",
   "execution_count": null,
   "metadata": {
    "collapsed": false
   },
   "outputs": [],
   "source": [
    "import itertools\n",
    "# set of unique parameter pairs\n",
    "pairs = set([frozenset(pair) for pair in itertools.permutations(list(corr.index), 2)]) \n",
    "for pair in pairs:\n",
    "    pair = sorted(list(pair))\n",
    "    corr_pair = corr.loc[pair[0],pair[1]]\n",
    "    if corr_pair > 0.7:\n",
    "        print(pair, round(corr_pair, 2))\n",
    "        print('-'*40)"
   ]
  },
  {
   "cell_type": "code",
   "execution_count": null,
   "metadata": {
    "collapsed": false
   },
   "outputs": [],
   "source": [
    "print('a')"
   ]
  },
  {
   "cell_type": "code",
   "execution_count": null,
   "metadata": {
    "collapsed": false
   },
   "outputs": [],
   "source": [
    "for i in corr.columns:\n",
    "    for j in corr.columns:\n",
    "        if abs(corr.loc[i, j]) > 0.7 and i != j:\n",
    "            print(i+'~'+j, corr.loc[i, j])"
   ]
  },
  {
   "cell_type": "code",
   "execution_count": null,
   "metadata": {
    "collapsed": true
   },
   "outputs": [],
   "source": []
  }
 ],
 "metadata": {
  "anaconda-cloud": {},
  "kernelspec": {
   "display_name": "Python [default]",
   "language": "python",
   "name": "python3"
  }
 },
 "nbformat": 4,
 "nbformat_minor": 0
}
