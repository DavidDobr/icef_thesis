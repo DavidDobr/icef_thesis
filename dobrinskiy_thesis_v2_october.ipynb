{
 "cells": [
  {
   "cell_type": "markdown",
   "metadata": {},
   "source": [
    "# This is a Jupyter notebook for David Dobrinskiy's HSE Thesis\n",
    "## How Venture Capital Affects Startups' Success\n"
   ]
  },
  {
   "cell_type": "code",
   "execution_count": 1,
   "metadata": {
    "collapsed": false
   },
   "outputs": [
    {
     "name": "stdout",
     "output_type": "stream",
     "text": [
      "3.5.2+ (default, Sep 22 2016, 12:18:14) \n",
      "[GCC 6.2.0 20160927]\n"
     ]
    }
   ],
   "source": [
    "# You should be running python3\n",
    "\n",
    "import sys\n",
    "print(sys.version)"
   ]
  },
  {
   "cell_type": "code",
   "execution_count": 2,
   "metadata": {
    "collapsed": false
   },
   "outputs": [
    {
     "name": "stdout",
     "output_type": "stream",
     "text": [
      "Pandas Version: 0.19.0\n"
     ]
    }
   ],
   "source": [
    "import pandas as pd  # http://pandas.pydata.org/\n",
    "import numpy as np   # http://numpy.org/\n",
    "\n",
    "import statsmodels.api as sm  # http://statsmodels.sourceforge.net/stable/\n",
    "import statsmodels.formula.api as smf\n",
    "\n",
    "print(\"Pandas Version: {}\".format(pd.__version__))  # pandas version"
   ]
  },
  {
   "cell_type": "markdown",
   "metadata": {},
   "source": [
    "### Let us look at the dynamics of total US VC investment"
   ]
  },
  {
   "cell_type": "code",
   "execution_count": 3,
   "metadata": {
    "collapsed": false
   },
   "outputs": [],
   "source": [
    "# file from http://www.pwcmoneytree.com/Reports/Homepage%20NationalAgg.xlsx as of October 10, 2016: 15:00\n",
    "# contains quarterly data on total num and $ of VC deals in USA from 1995\n",
    "file = 'data/HomepageNationalAgg.xlsx'\n",
    "sheet = \"Total US by Qtr & Year\"\n",
    "\n",
    "#import XLSX\n",
    "f1 = pd.read_excel(file, sheet, header=11)"
   ]
  },
  {
   "cell_type": "code",
   "execution_count": 4,
   "metadata": {
    "collapsed": false
   },
   "outputs": [
    {
     "data": {
      "text/plain": [
       "pandas.core.frame.DataFrame"
      ]
     },
     "execution_count": 4,
     "metadata": {},
     "output_type": "execute_result"
    }
   ],
   "source": [
    "vc_total = f1 # use vc_total to play around with data without downloading it again\n",
    "\n",
    "# NOTE: vc_total is a pandas dataframe\n",
    "# go to http://pandas.pydata.org for reference\n",
    "type(vc_total)"
   ]
  },
  {
   "cell_type": "code",
   "execution_count": 5,
   "metadata": {
    "collapsed": false,
    "scrolled": false
   },
   "outputs": [],
   "source": [
    "# vc_total"
   ]
  },
  {
   "cell_type": "code",
   "execution_count": 6,
   "metadata": {
    "collapsed": false,
    "scrolled": true
   },
   "outputs": [
    {
     "data": {
      "text/html": [
       "<div>\n",
       "<table border=\"1\" class=\"dataframe\">\n",
       "  <thead>\n",
       "    <tr style=\"text-align: right;\">\n",
       "      <th></th>\n",
       "      <th>Quarter</th>\n",
       "      <th>1995</th>\n",
       "      <th>Unnamed: 2</th>\n",
       "      <th>1996</th>\n",
       "      <th>Unnamed: 4</th>\n",
       "      <th>1997</th>\n",
       "      <th>Unnamed: 6</th>\n",
       "      <th>1998</th>\n",
       "      <th>Unnamed: 8</th>\n",
       "      <th>1999</th>\n",
       "      <th>...</th>\n",
       "      <th>2012</th>\n",
       "      <th>Unnamed: 36</th>\n",
       "      <th>2013</th>\n",
       "      <th>Unnamed: 38</th>\n",
       "      <th>2014</th>\n",
       "      <th>Unnamed: 40</th>\n",
       "      <th>2015</th>\n",
       "      <th>Unnamed: 42</th>\n",
       "      <th>2016</th>\n",
       "      <th>Unnamed: 44</th>\n",
       "    </tr>\n",
       "  </thead>\n",
       "  <tbody>\n",
       "    <tr>\n",
       "      <th>0</th>\n",
       "      <td>NaN</td>\n",
       "      <td># of Deals</td>\n",
       "      <td>Amount Invested</td>\n",
       "      <td># of Deals</td>\n",
       "      <td>Amount Invested</td>\n",
       "      <td># of Deals</td>\n",
       "      <td>Amount Invested</td>\n",
       "      <td># of Deals</td>\n",
       "      <td>Amount Invested</td>\n",
       "      <td># of Deals</td>\n",
       "      <td>...</td>\n",
       "      <td>Deals</td>\n",
       "      <td>Amount Invested</td>\n",
       "      <td>Deals</td>\n",
       "      <td>Amount Invested</td>\n",
       "      <td>Deals</td>\n",
       "      <td>Amount Invested</td>\n",
       "      <td>Deals</td>\n",
       "      <td>Amount Invested</td>\n",
       "      <td>Deals</td>\n",
       "      <td>Amount Invested</td>\n",
       "    </tr>\n",
       "    <tr>\n",
       "      <th>1</th>\n",
       "      <td>1</td>\n",
       "      <td>503</td>\n",
       "      <td>1690040500</td>\n",
       "      <td>585</td>\n",
       "      <td>2437964900</td>\n",
       "      <td>773</td>\n",
       "      <td>3104430200</td>\n",
       "      <td>871</td>\n",
       "      <td>4199545200</td>\n",
       "      <td>936</td>\n",
       "      <td>...</td>\n",
       "      <td>904</td>\n",
       "      <td>6329210900</td>\n",
       "      <td>956</td>\n",
       "      <td>6155589700</td>\n",
       "      <td>1062</td>\n",
       "      <td>10815557600</td>\n",
       "      <td>1091</td>\n",
       "      <td>13623792600</td>\n",
       "      <td>1021</td>\n",
       "      <td>12641621200</td>\n",
       "    </tr>\n",
       "    <tr>\n",
       "      <th>2</th>\n",
       "      <td>2</td>\n",
       "      <td>466</td>\n",
       "      <td>2546374500</td>\n",
       "      <td>671</td>\n",
       "      <td>3017298000</td>\n",
       "      <td>778</td>\n",
       "      <td>3691566400</td>\n",
       "      <td>912</td>\n",
       "      <td>5784400500</td>\n",
       "      <td>1330</td>\n",
       "      <td>...</td>\n",
       "      <td>1016</td>\n",
       "      <td>7556279300</td>\n",
       "      <td>1055</td>\n",
       "      <td>7323978700</td>\n",
       "      <td>1205</td>\n",
       "      <td>14059200200</td>\n",
       "      <td>1234</td>\n",
       "      <td>17435147700</td>\n",
       "      <td>999</td>\n",
       "      <td>15570439500</td>\n",
       "    </tr>\n",
       "    <tr>\n",
       "      <th>3</th>\n",
       "      <td>3</td>\n",
       "      <td>434</td>\n",
       "      <td>1709754500</td>\n",
       "      <td>604</td>\n",
       "      <td>2606841300</td>\n",
       "      <td>762</td>\n",
       "      <td>3775959100</td>\n",
       "      <td>931</td>\n",
       "      <td>5412295700</td>\n",
       "      <td>1448</td>\n",
       "      <td>...</td>\n",
       "      <td>988</td>\n",
       "      <td>6760302700</td>\n",
       "      <td>1108</td>\n",
       "      <td>8111446600</td>\n",
       "      <td>1088</td>\n",
       "      <td>10533959200</td>\n",
       "      <td>1189</td>\n",
       "      <td>16713968800</td>\n",
       "      <td>891</td>\n",
       "      <td>10626879300</td>\n",
       "    </tr>\n",
       "    <tr>\n",
       "      <th>4</th>\n",
       "      <td>4</td>\n",
       "      <td>494</td>\n",
       "      <td>2070353900</td>\n",
       "      <td>775</td>\n",
       "      <td>3223318800</td>\n",
       "      <td>919</td>\n",
       "      <td>4499598900</td>\n",
       "      <td>1030</td>\n",
       "      <td>6165090000</td>\n",
       "      <td>1892</td>\n",
       "      <td>...</td>\n",
       "      <td>1097</td>\n",
       "      <td>7079726500</td>\n",
       "      <td>1188</td>\n",
       "      <td>8703206900</td>\n",
       "      <td>1143</td>\n",
       "      <td>15742056800</td>\n",
       "      <td>1047</td>\n",
       "      <td>12335136900</td>\n",
       "      <td>NaN</td>\n",
       "      <td>NaN</td>\n",
       "    </tr>\n",
       "    <tr>\n",
       "      <th>5</th>\n",
       "      <td>Grand Total</td>\n",
       "      <td>1897</td>\n",
       "      <td>8016523400</td>\n",
       "      <td>2635</td>\n",
       "      <td>11285423000</td>\n",
       "      <td>3232</td>\n",
       "      <td>15071554600</td>\n",
       "      <td>3744</td>\n",
       "      <td>21561331400</td>\n",
       "      <td>5606</td>\n",
       "      <td>...</td>\n",
       "      <td>4005</td>\n",
       "      <td>27725519400</td>\n",
       "      <td>4307</td>\n",
       "      <td>30294221900</td>\n",
       "      <td>4498</td>\n",
       "      <td>51150773800</td>\n",
       "      <td>4561</td>\n",
       "      <td>60108046000</td>\n",
       "      <td>2911</td>\n",
       "      <td>38838940000</td>\n",
       "    </tr>\n",
       "  </tbody>\n",
       "</table>\n",
       "<p>6 rows × 45 columns</p>\n",
       "</div>"
      ],
      "text/plain": [
       "       Quarter        1995       Unnamed: 2        1996       Unnamed: 4  \\\n",
       "0          NaN  # of Deals  Amount Invested  # of Deals  Amount Invested   \n",
       "1            1         503       1690040500         585       2437964900   \n",
       "2            2         466       2546374500         671       3017298000   \n",
       "3            3         434       1709754500         604       2606841300   \n",
       "4            4         494       2070353900         775       3223318800   \n",
       "5  Grand Total        1897       8016523400        2635      11285423000   \n",
       "\n",
       "         1997       Unnamed: 6        1998       Unnamed: 8        1999  \\\n",
       "0  # of Deals  Amount Invested  # of Deals  Amount Invested  # of Deals   \n",
       "1         773       3104430200         871       4199545200         936   \n",
       "2         778       3691566400         912       5784400500        1330   \n",
       "3         762       3775959100         931       5412295700        1448   \n",
       "4         919       4499598900        1030       6165090000        1892   \n",
       "5        3232      15071554600        3744      21561331400        5606   \n",
       "\n",
       "        ...          2012      Unnamed: 36   2013      Unnamed: 38   2014  \\\n",
       "0       ...         Deals  Amount Invested  Deals  Amount Invested  Deals   \n",
       "1       ...           904       6329210900    956       6155589700   1062   \n",
       "2       ...          1016       7556279300   1055       7323978700   1205   \n",
       "3       ...           988       6760302700   1108       8111446600   1088   \n",
       "4       ...          1097       7079726500   1188       8703206900   1143   \n",
       "5       ...          4005      27725519400   4307      30294221900   4498   \n",
       "\n",
       "       Unnamed: 40   2015      Unnamed: 42   2016      Unnamed: 44  \n",
       "0  Amount Invested  Deals  Amount Invested  Deals  Amount Invested  \n",
       "1      10815557600   1091      13623792600   1021      12641621200  \n",
       "2      14059200200   1234      17435147700    999      15570439500  \n",
       "3      10533959200   1189      16713968800    891      10626879300  \n",
       "4      15742056800   1047      12335136900    NaN              NaN  \n",
       "5      51150773800   4561      60108046000   2911      38838940000  \n",
       "\n",
       "[6 rows x 45 columns]"
      ]
     },
     "execution_count": 6,
     "metadata": {},
     "output_type": "execute_result"
    }
   ],
   "source": [
    "vc_total = vc_total.drop(vc_total.index[ [6, 7]]) # delete last 2 rows\n",
    "# vc_total = vc_total.drop(vc_total.columns[-2:], axis=1) # delete last 2 columns (for 2016q1)\n",
    "vc_total"
   ]
  },
  {
   "cell_type": "code",
   "execution_count": 7,
   "metadata": {
    "collapsed": false
   },
   "outputs": [
    {
     "name": "stdout",
     "output_type": "stream",
     "text": [
      "['Quarter', 1995, 1995, 1996, 1996, 1997, 1997, 1998, 1998]\n",
      "...\n",
      "[2012, 2012, 2013, 2013, 2014, 2014, 2015, 2015, 2016, 2016]\n"
     ]
    }
   ],
   "source": [
    "names = ['Quarter']  # create list for names\n",
    "y = 1995             # first year in our data is 1995\n",
    "while y <= 2016:     # columns alternate b/w Deal Num and Investment $ for the same year, thus append Y twice\n",
    "    names.append(y)\n",
    "    names.append(y)\n",
    "    y += 1\n",
    "\n",
    "print(names[:9])\n",
    "print('...')\n",
    "print(names[-10:])"
   ]
  },
  {
   "cell_type": "code",
   "execution_count": 8,
   "metadata": {
    "collapsed": false
   },
   "outputs": [
    {
     "data": {
      "text/html": [
       "<div>\n",
       "<table border=\"1\" class=\"dataframe\">\n",
       "  <thead>\n",
       "    <tr style=\"text-align: right;\">\n",
       "      <th></th>\n",
       "      <th>Quarter</th>\n",
       "      <th>1995</th>\n",
       "      <th>1995</th>\n",
       "      <th>1996</th>\n",
       "      <th>1996</th>\n",
       "      <th>1997</th>\n",
       "      <th>1997</th>\n",
       "      <th>1998</th>\n",
       "      <th>1998</th>\n",
       "      <th>1999</th>\n",
       "      <th>...</th>\n",
       "      <th>2012</th>\n",
       "      <th>2012</th>\n",
       "      <th>2013</th>\n",
       "      <th>2013</th>\n",
       "      <th>2014</th>\n",
       "      <th>2014</th>\n",
       "      <th>2015</th>\n",
       "      <th>2015</th>\n",
       "      <th>2016</th>\n",
       "      <th>2016</th>\n",
       "    </tr>\n",
       "  </thead>\n",
       "  <tbody>\n",
       "    <tr>\n",
       "      <th>0</th>\n",
       "      <td>NaN</td>\n",
       "      <td># of Deals</td>\n",
       "      <td>Amount Invested</td>\n",
       "      <td># of Deals</td>\n",
       "      <td>Amount Invested</td>\n",
       "      <td># of Deals</td>\n",
       "      <td>Amount Invested</td>\n",
       "      <td># of Deals</td>\n",
       "      <td>Amount Invested</td>\n",
       "      <td># of Deals</td>\n",
       "      <td>...</td>\n",
       "      <td>Deals</td>\n",
       "      <td>Amount Invested</td>\n",
       "      <td>Deals</td>\n",
       "      <td>Amount Invested</td>\n",
       "      <td>Deals</td>\n",
       "      <td>Amount Invested</td>\n",
       "      <td>Deals</td>\n",
       "      <td>Amount Invested</td>\n",
       "      <td>Deals</td>\n",
       "      <td>Amount Invested</td>\n",
       "    </tr>\n",
       "    <tr>\n",
       "      <th>1</th>\n",
       "      <td>1</td>\n",
       "      <td>503</td>\n",
       "      <td>1690040500</td>\n",
       "      <td>585</td>\n",
       "      <td>2437964900</td>\n",
       "      <td>773</td>\n",
       "      <td>3104430200</td>\n",
       "      <td>871</td>\n",
       "      <td>4199545200</td>\n",
       "      <td>936</td>\n",
       "      <td>...</td>\n",
       "      <td>904</td>\n",
       "      <td>6329210900</td>\n",
       "      <td>956</td>\n",
       "      <td>6155589700</td>\n",
       "      <td>1062</td>\n",
       "      <td>10815557600</td>\n",
       "      <td>1091</td>\n",
       "      <td>13623792600</td>\n",
       "      <td>1021</td>\n",
       "      <td>12641621200</td>\n",
       "    </tr>\n",
       "    <tr>\n",
       "      <th>2</th>\n",
       "      <td>2</td>\n",
       "      <td>466</td>\n",
       "      <td>2546374500</td>\n",
       "      <td>671</td>\n",
       "      <td>3017298000</td>\n",
       "      <td>778</td>\n",
       "      <td>3691566400</td>\n",
       "      <td>912</td>\n",
       "      <td>5784400500</td>\n",
       "      <td>1330</td>\n",
       "      <td>...</td>\n",
       "      <td>1016</td>\n",
       "      <td>7556279300</td>\n",
       "      <td>1055</td>\n",
       "      <td>7323978700</td>\n",
       "      <td>1205</td>\n",
       "      <td>14059200200</td>\n",
       "      <td>1234</td>\n",
       "      <td>17435147700</td>\n",
       "      <td>999</td>\n",
       "      <td>15570439500</td>\n",
       "    </tr>\n",
       "    <tr>\n",
       "      <th>3</th>\n",
       "      <td>3</td>\n",
       "      <td>434</td>\n",
       "      <td>1709754500</td>\n",
       "      <td>604</td>\n",
       "      <td>2606841300</td>\n",
       "      <td>762</td>\n",
       "      <td>3775959100</td>\n",
       "      <td>931</td>\n",
       "      <td>5412295700</td>\n",
       "      <td>1448</td>\n",
       "      <td>...</td>\n",
       "      <td>988</td>\n",
       "      <td>6760302700</td>\n",
       "      <td>1108</td>\n",
       "      <td>8111446600</td>\n",
       "      <td>1088</td>\n",
       "      <td>10533959200</td>\n",
       "      <td>1189</td>\n",
       "      <td>16713968800</td>\n",
       "      <td>891</td>\n",
       "      <td>10626879300</td>\n",
       "    </tr>\n",
       "    <tr>\n",
       "      <th>4</th>\n",
       "      <td>4</td>\n",
       "      <td>494</td>\n",
       "      <td>2070353900</td>\n",
       "      <td>775</td>\n",
       "      <td>3223318800</td>\n",
       "      <td>919</td>\n",
       "      <td>4499598900</td>\n",
       "      <td>1030</td>\n",
       "      <td>6165090000</td>\n",
       "      <td>1892</td>\n",
       "      <td>...</td>\n",
       "      <td>1097</td>\n",
       "      <td>7079726500</td>\n",
       "      <td>1188</td>\n",
       "      <td>8703206900</td>\n",
       "      <td>1143</td>\n",
       "      <td>15742056800</td>\n",
       "      <td>1047</td>\n",
       "      <td>12335136900</td>\n",
       "      <td>NaN</td>\n",
       "      <td>NaN</td>\n",
       "    </tr>\n",
       "    <tr>\n",
       "      <th>5</th>\n",
       "      <td>Grand Total</td>\n",
       "      <td>1897</td>\n",
       "      <td>8016523400</td>\n",
       "      <td>2635</td>\n",
       "      <td>11285423000</td>\n",
       "      <td>3232</td>\n",
       "      <td>15071554600</td>\n",
       "      <td>3744</td>\n",
       "      <td>21561331400</td>\n",
       "      <td>5606</td>\n",
       "      <td>...</td>\n",
       "      <td>4005</td>\n",
       "      <td>27725519400</td>\n",
       "      <td>4307</td>\n",
       "      <td>30294221900</td>\n",
       "      <td>4498</td>\n",
       "      <td>51150773800</td>\n",
       "      <td>4561</td>\n",
       "      <td>60108046000</td>\n",
       "      <td>2911</td>\n",
       "      <td>38838940000</td>\n",
       "    </tr>\n",
       "  </tbody>\n",
       "</table>\n",
       "<p>6 rows × 45 columns</p>\n",
       "</div>"
      ],
      "text/plain": [
       "       Quarter        1995             1995        1996             1996  \\\n",
       "0          NaN  # of Deals  Amount Invested  # of Deals  Amount Invested   \n",
       "1            1         503       1690040500         585       2437964900   \n",
       "2            2         466       2546374500         671       3017298000   \n",
       "3            3         434       1709754500         604       2606841300   \n",
       "4            4         494       2070353900         775       3223318800   \n",
       "5  Grand Total        1897       8016523400        2635      11285423000   \n",
       "\n",
       "         1997             1997        1998             1998        1999  \\\n",
       "0  # of Deals  Amount Invested  # of Deals  Amount Invested  # of Deals   \n",
       "1         773       3104430200         871       4199545200         936   \n",
       "2         778       3691566400         912       5784400500        1330   \n",
       "3         762       3775959100         931       5412295700        1448   \n",
       "4         919       4499598900        1030       6165090000        1892   \n",
       "5        3232      15071554600        3744      21561331400        5606   \n",
       "\n",
       "        ...          2012             2012   2013             2013   2014  \\\n",
       "0       ...         Deals  Amount Invested  Deals  Amount Invested  Deals   \n",
       "1       ...           904       6329210900    956       6155589700   1062   \n",
       "2       ...          1016       7556279300   1055       7323978700   1205   \n",
       "3       ...           988       6760302700   1108       8111446600   1088   \n",
       "4       ...          1097       7079726500   1188       8703206900   1143   \n",
       "5       ...          4005      27725519400   4307      30294221900   4498   \n",
       "\n",
       "              2014   2015             2015   2016             2016  \n",
       "0  Amount Invested  Deals  Amount Invested  Deals  Amount Invested  \n",
       "1      10815557600   1091      13623792600   1021      12641621200  \n",
       "2      14059200200   1234      17435147700    999      15570439500  \n",
       "3      10533959200   1189      16713968800    891      10626879300  \n",
       "4      15742056800   1047      12335136900    NaN              NaN  \n",
       "5      51150773800   4561      60108046000   2911      38838940000  \n",
       "\n",
       "[6 rows x 45 columns]"
      ]
     },
     "execution_count": 8,
     "metadata": {},
     "output_type": "execute_result"
    }
   ],
   "source": [
    "vc_total.columns = names\n",
    "vc_total"
   ]
  },
  {
   "cell_type": "code",
   "execution_count": 9,
   "metadata": {
    "collapsed": false
   },
   "outputs": [
    {
     "data": {
      "text/html": [
       "<div>\n",
       "<table border=\"1\" class=\"dataframe\">\n",
       "  <thead>\n",
       "    <tr style=\"text-align: right;\">\n",
       "      <th></th>\n",
       "      <th>0</th>\n",
       "      <th>1</th>\n",
       "      <th>2</th>\n",
       "      <th>3</th>\n",
       "      <th>4</th>\n",
       "      <th>5</th>\n",
       "    </tr>\n",
       "  </thead>\n",
       "  <tbody>\n",
       "    <tr>\n",
       "      <th>2014</th>\n",
       "      <td>Deals</td>\n",
       "      <td>1062</td>\n",
       "      <td>1205</td>\n",
       "      <td>1088</td>\n",
       "      <td>1143</td>\n",
       "      <td>4498</td>\n",
       "    </tr>\n",
       "    <tr>\n",
       "      <th>2014</th>\n",
       "      <td>Amount Invested</td>\n",
       "      <td>10815557600</td>\n",
       "      <td>14059200200</td>\n",
       "      <td>10533959200</td>\n",
       "      <td>15742056800</td>\n",
       "      <td>51150773800</td>\n",
       "    </tr>\n",
       "    <tr>\n",
       "      <th>2015</th>\n",
       "      <td>Deals</td>\n",
       "      <td>1091</td>\n",
       "      <td>1234</td>\n",
       "      <td>1189</td>\n",
       "      <td>1047</td>\n",
       "      <td>4561</td>\n",
       "    </tr>\n",
       "    <tr>\n",
       "      <th>2015</th>\n",
       "      <td>Amount Invested</td>\n",
       "      <td>13623792600</td>\n",
       "      <td>17435147700</td>\n",
       "      <td>16713968800</td>\n",
       "      <td>12335136900</td>\n",
       "      <td>60108046000</td>\n",
       "    </tr>\n",
       "    <tr>\n",
       "      <th>2016</th>\n",
       "      <td>Deals</td>\n",
       "      <td>1021</td>\n",
       "      <td>999</td>\n",
       "      <td>891</td>\n",
       "      <td>NaN</td>\n",
       "      <td>2911</td>\n",
       "    </tr>\n",
       "    <tr>\n",
       "      <th>2016</th>\n",
       "      <td>Amount Invested</td>\n",
       "      <td>12641621200</td>\n",
       "      <td>15570439500</td>\n",
       "      <td>10626879300</td>\n",
       "      <td>NaN</td>\n",
       "      <td>38838940000</td>\n",
       "    </tr>\n",
       "  </tbody>\n",
       "</table>\n",
       "</div>"
      ],
      "text/plain": [
       "                    0            1            2            3            4  \\\n",
       "2014            Deals         1062         1205         1088         1143   \n",
       "2014  Amount Invested  10815557600  14059200200  10533959200  15742056800   \n",
       "2015            Deals         1091         1234         1189         1047   \n",
       "2015  Amount Invested  13623792600  17435147700  16713968800  12335136900   \n",
       "2016            Deals         1021          999          891          NaN   \n",
       "2016  Amount Invested  12641621200  15570439500  10626879300          NaN   \n",
       "\n",
       "                5  \n",
       "2014         4498  \n",
       "2014  51150773800  \n",
       "2015         4561  \n",
       "2015  60108046000  \n",
       "2016         2911  \n",
       "2016  38838940000  "
      ]
     },
     "execution_count": 9,
     "metadata": {},
     "output_type": "execute_result"
    }
   ],
   "source": [
    "vc_total = vc_total.transpose()\n",
    "vc_total.tail(6)"
   ]
  },
  {
   "cell_type": "markdown",
   "metadata": {},
   "source": [
    "Note that 2 consecutive rows are Deals and Amount Invested for the same year, thus step by 2 to access only investment or only deals"
   ]
  },
  {
   "cell_type": "code",
   "execution_count": 10,
   "metadata": {
    "collapsed": false
   },
   "outputs": [
    {
     "data": {
      "text/html": [
       "<div>\n",
       "<table border=\"1\" class=\"dataframe\">\n",
       "  <thead>\n",
       "    <tr style=\"text-align: right;\">\n",
       "      <th></th>\n",
       "      <th>1</th>\n",
       "      <th>2</th>\n",
       "      <th>3</th>\n",
       "      <th>4</th>\n",
       "    </tr>\n",
       "  </thead>\n",
       "  <tbody>\n",
       "    <tr>\n",
       "      <th>2011</th>\n",
       "      <td>6530429100</td>\n",
       "      <td>8259744500</td>\n",
       "      <td>7609822800</td>\n",
       "      <td>7526605900</td>\n",
       "    </tr>\n",
       "    <tr>\n",
       "      <th>2012</th>\n",
       "      <td>6329210900</td>\n",
       "      <td>7556279300</td>\n",
       "      <td>6760302700</td>\n",
       "      <td>7079726500</td>\n",
       "    </tr>\n",
       "    <tr>\n",
       "      <th>2013</th>\n",
       "      <td>6155589700</td>\n",
       "      <td>7323978700</td>\n",
       "      <td>8111446600</td>\n",
       "      <td>8703206900</td>\n",
       "    </tr>\n",
       "    <tr>\n",
       "      <th>2014</th>\n",
       "      <td>10815557600</td>\n",
       "      <td>14059200200</td>\n",
       "      <td>10533959200</td>\n",
       "      <td>15742056800</td>\n",
       "    </tr>\n",
       "    <tr>\n",
       "      <th>2015</th>\n",
       "      <td>13623792600</td>\n",
       "      <td>17435147700</td>\n",
       "      <td>16713968800</td>\n",
       "      <td>12335136900</td>\n",
       "    </tr>\n",
       "    <tr>\n",
       "      <th>2016</th>\n",
       "      <td>12641621200</td>\n",
       "      <td>15570439500</td>\n",
       "      <td>10626879300</td>\n",
       "      <td>NaN</td>\n",
       "    </tr>\n",
       "  </tbody>\n",
       "</table>\n",
       "</div>"
      ],
      "text/plain": [
       "                1            2            3            4\n",
       "2011   6530429100   8259744500   7609822800   7526605900\n",
       "2012   6329210900   7556279300   6760302700   7079726500\n",
       "2013   6155589700   7323978700   8111446600   8703206900\n",
       "2014  10815557600  14059200200  10533959200  15742056800\n",
       "2015  13623792600  17435147700  16713968800  12335136900\n",
       "2016  12641621200  15570439500  10626879300          NaN"
      ]
     },
     "execution_count": 10,
     "metadata": {},
     "output_type": "execute_result"
    }
   ],
   "source": [
    "# Amount Invested\n",
    "invested = vc_total.iloc[::2,1:5]\n",
    "invested.tail(6)"
   ]
  },
  {
   "cell_type": "code",
   "execution_count": 11,
   "metadata": {
    "collapsed": false
   },
   "outputs": [
    {
     "data": {
      "text/plain": [
       "[16713968800, 12335136900, 12641621200, 15570439500, 10626879300]"
      ]
     },
     "execution_count": 11,
     "metadata": {},
     "output_type": "execute_result"
    }
   ],
   "source": [
    "invested_quarterly = []\n",
    "for i in range(1,len(invested)):  # len(invested)\n",
    "    # print(invested.iloc[i])\n",
    "    #print(invested.iloc[i].name)\n",
    "    for j in invested.iloc[i].index:\n",
    "        if invested.iloc[i,j-1] > 0:  # do not append NAN values (last 3 quarters of 2016)\n",
    "            invested_quarterly.append(invested.iloc[i,j-1]) \n",
    "\n",
    "invested_quarterly[-5:]"
   ]
  },
  {
   "cell_type": "code",
   "execution_count": 12,
   "metadata": {
    "collapsed": false
   },
   "outputs": [
    {
     "data": {
      "text/html": [
       "<div>\n",
       "<table border=\"1\" class=\"dataframe\">\n",
       "  <thead>\n",
       "    <tr style=\"text-align: right;\">\n",
       "      <th></th>\n",
       "      <th>1</th>\n",
       "      <th>2</th>\n",
       "      <th>3</th>\n",
       "      <th>4</th>\n",
       "    </tr>\n",
       "  </thead>\n",
       "  <tbody>\n",
       "    <tr>\n",
       "      <th>1995</th>\n",
       "      <td>503</td>\n",
       "      <td>466</td>\n",
       "      <td>434</td>\n",
       "      <td>494</td>\n",
       "    </tr>\n",
       "    <tr>\n",
       "      <th>1996</th>\n",
       "      <td>585</td>\n",
       "      <td>671</td>\n",
       "      <td>604</td>\n",
       "      <td>775</td>\n",
       "    </tr>\n",
       "    <tr>\n",
       "      <th>1997</th>\n",
       "      <td>773</td>\n",
       "      <td>778</td>\n",
       "      <td>762</td>\n",
       "      <td>919</td>\n",
       "    </tr>\n",
       "    <tr>\n",
       "      <th>1998</th>\n",
       "      <td>871</td>\n",
       "      <td>912</td>\n",
       "      <td>931</td>\n",
       "      <td>1030</td>\n",
       "    </tr>\n",
       "    <tr>\n",
       "      <th>1999</th>\n",
       "      <td>936</td>\n",
       "      <td>1330</td>\n",
       "      <td>1448</td>\n",
       "      <td>1892</td>\n",
       "    </tr>\n",
       "  </tbody>\n",
       "</table>\n",
       "</div>"
      ],
      "text/plain": [
       "        1     2     3     4\n",
       "1995  503   466   434   494\n",
       "1996  585   671   604   775\n",
       "1997  773   778   762   919\n",
       "1998  871   912   931  1030\n",
       "1999  936  1330  1448  1892"
      ]
     },
     "execution_count": 12,
     "metadata": {},
     "output_type": "execute_result"
    }
   ],
   "source": [
    "# Deals\n",
    "deals = vc_total.iloc[1::2,1:5]\n",
    "deals.head()"
   ]
  },
  {
   "cell_type": "code",
   "execution_count": 13,
   "metadata": {
    "collapsed": false
   },
   "outputs": [
    {
     "data": {
      "text/plain": [
       "[1189, 1047, 1021, 999, 891]"
      ]
     },
     "execution_count": 13,
     "metadata": {},
     "output_type": "execute_result"
    }
   ],
   "source": [
    "deals_quarterly = []\n",
    "for i in range(0,len(deals)):  # len(invested)\n",
    "    for j in deals.iloc[i].index:\n",
    "        if deals.iloc[i,j-1] > 0:  # do not append NAN values (last 3 quarters of 2016)\n",
    "            deals_quarterly.append(deals.iloc[i,j-1])\n",
    "\n",
    "deals_quarterly[-5:]"
   ]
  },
  {
   "cell_type": "code",
   "execution_count": 14,
   "metadata": {
    "collapsed": false
   },
   "outputs": [
    {
     "name": "stdout",
     "output_type": "stream",
     "text": [
      "87\n",
      "87\n"
     ]
    }
   ],
   "source": [
    "# check length equality\n",
    "print(len(invested_quarterly))\n",
    "print(len(deals_quarterly))"
   ]
  },
  {
   "cell_type": "code",
   "execution_count": 15,
   "metadata": {
    "collapsed": false
   },
   "outputs": [
    {
     "data": {
      "text/html": [
       "<div>\n",
       "<table border=\"1\" class=\"dataframe\">\n",
       "  <thead>\n",
       "    <tr style=\"text-align: right;\">\n",
       "      <th></th>\n",
       "      <th>Deals</th>\n",
       "      <th>Invested</th>\n",
       "    </tr>\n",
       "  </thead>\n",
       "  <tbody>\n",
       "    <tr>\n",
       "      <th>2015Q3</th>\n",
       "      <td>1189</td>\n",
       "      <td>16713968800</td>\n",
       "    </tr>\n",
       "    <tr>\n",
       "      <th>2015Q4</th>\n",
       "      <td>1047</td>\n",
       "      <td>12335136900</td>\n",
       "    </tr>\n",
       "    <tr>\n",
       "      <th>2016Q1</th>\n",
       "      <td>1021</td>\n",
       "      <td>12641621200</td>\n",
       "    </tr>\n",
       "    <tr>\n",
       "      <th>2016Q2</th>\n",
       "      <td>999</td>\n",
       "      <td>15570439500</td>\n",
       "    </tr>\n",
       "    <tr>\n",
       "      <th>2016Q3</th>\n",
       "      <td>891</td>\n",
       "      <td>10626879300</td>\n",
       "    </tr>\n",
       "  </tbody>\n",
       "</table>\n",
       "</div>"
      ],
      "text/plain": [
       "        Deals     Invested\n",
       "2015Q3   1189  16713968800\n",
       "2015Q4   1047  12335136900\n",
       "2016Q1   1021  12641621200\n",
       "2016Q2    999  15570439500\n",
       "2016Q3    891  10626879300"
      ]
     },
     "execution_count": 15,
     "metadata": {},
     "output_type": "execute_result"
    }
   ],
   "source": [
    "# create time series index from 1995q1 to 2016q1 matching our data observations\n",
    "quarters = pd.period_range('1995Q1', '2016Q3', freq='Q-NOV')\n",
    "\n",
    "# create a dataframe for deals & investments\n",
    "d = {'Invested' : pd.Series(invested_quarterly, index=quarters),\n",
    "        'Deals' : pd.Series(deals_quarterly,    index=quarters)}\n",
    "\n",
    "result = pd.DataFrame(d)\n",
    "result.tail()"
   ]
  },
  {
   "cell_type": "code",
   "execution_count": 16,
   "metadata": {
    "collapsed": false
   },
   "outputs": [
    {
     "name": "stdout",
     "output_type": "stream",
     "text": [
      "        Deals  Invested ($ Bill)\n",
      "1995Q1    503           1.690041\n",
      "1995Q2    466           2.546375\n",
      "1995Q3    434           1.709755\n",
      "1995Q4    494           2.070354\n",
      "1996Q1    585           2.437965\n",
      "        Deals  Invested ($ Bill)\n",
      "2015Q3   1189          16.713969\n",
      "2015Q4   1047          12.335137\n",
      "2016Q1   1021          12.641621\n",
      "2016Q2    999          15.570440\n",
      "2016Q3    891          10.626879\n"
     ]
    }
   ],
   "source": [
    "result['Invested'] = result['Invested'] / 10**9  # convert invested to BILLIONS\n",
    "result.columns = [\"Deals\", \"Invested ($ Bill)\"]\n",
    "print(result.head())\n",
    "print(result.tail())"
   ]
  },
  {
   "cell_type": "markdown",
   "metadata": {},
   "source": [
    "### Plot data from MoneyTree report ( \"`result`\" data frame)\n",
    "\n",
    "http://www.pwcmoneytree.com"
   ]
  },
  {
   "cell_type": "code",
   "execution_count": 17,
   "metadata": {
    "collapsed": false
   },
   "outputs": [
    {
     "data": {
      "image/png": "[encoded data removed]",
      "text/plain": [
       "<matplotlib.figure.Figure at 0x7f1874a83668>"
      ]
     },
     "metadata": {},
     "output_type": "display_data"
    }
   ],
   "source": [
    "import matplotlib.pyplot  as plt  # http://matplotlib.org/\n",
    "import matplotlib.patches as mpatches\n",
    "import matplotlib.ticker  as ticker\n",
    "%matplotlib inline\n",
    "\n",
    "fig, ax1 = plt.subplots()\n",
    "ax1.set_title(\"VC historical trend (US Data)\")\n",
    "t = range(len(result.index))      # need to substitute tickers for years later\n",
    "width = t[1]-t[0]\n",
    "y1 = result['Invested ($ Bill)']\n",
    "\n",
    "# create filled step chart for investment amount\n",
    "ax1.bar(t, y1, width=width, facecolor='0.80', edgecolor='', label = 'Investment ($ Bln.)')\n",
    "ax1.set_ylabel('Investment ($ Bln.)')\n",
    "\n",
    "# set up xlabels with years\n",
    "years = [str(year)[:-2] for year in result.index][::4]  # get years without quarter \n",
    "ax1.set_xticks(t[::4])                   # set 1 tick per year\n",
    "ax1.set_xticklabels(years, rotation=50)  # set tick names\n",
    "ax1.set_xlabel('Year')                   # name X axis\n",
    "\n",
    "# format Y1 tickers to $ billions\n",
    "formatter = ticker.FormatStrFormatter('$%1.0f Bil.')\n",
    "ax1.yaxis.set_major_formatter(formatter)\n",
    "for tick in ax1.yaxis.get_major_ticks():\n",
    "    tick.label1On = False\n",
    "    tick.label2On = True\n",
    "\n",
    "# create second Y2 axis for Num of Deals\n",
    "ax2 = ax1.twinx()\n",
    "y2 = result['Deals']\n",
    "ax2.plot(t, y2, color = 'k', ls = '-', label = 'Num. of Deals')\n",
    "ax2.set_ylabel('Num. of Deals')\n",
    "\n",
    "# add annotation bubbles\n",
    "ax2.annotate('1997-2000 dot-com bubble', xy=(23, 2100), xytext=(6, 1800),\n",
    "                bbox=dict(boxstyle=\"round4\", fc=\"w\"),\n",
    "                arrowprops=dict(arrowstyle=\"-|>\",\n",
    "                                connectionstyle=\"arc3,rad=0.2\",\n",
    "                                fc=\"w\"),\n",
    "            )\n",
    "\n",
    "ax2.annotate('2007-08 Financial Crisis', xy=(57, 800), xytext=(40, 1300),\n",
    "                bbox=dict(boxstyle=\"round4\", fc=\"w\"),\n",
    "                arrowprops=dict(arrowstyle=\"-|>\",\n",
    "                                connectionstyle=\"arc3,rad=-0.2\",\n",
    "                                fc=\"w\"), \n",
    "            )\n",
    "\n",
    "\n",
    "# add legend\n",
    "ax1.legend(loc=\"best\")\n",
    "ax2.legend(bbox_to_anchor=(0.95, 0.88))\n",
    "\n",
    "plt.show()\n",
    "\n",
    "fig.tight_layout()  # solves cropping problems when saving png\n",
    "fig.savefig('vc_trend.png', dpi=250)"
   ]
  }
 ],
 "metadata": {
  "kernelspec": {
   "display_name": "Python 3",
   "language": "python",
   "name": "python3"
  },
  "language_info": {
   "codemirror_mode": {
    "name": "ipython",
    "version": 3
   },
   "file_extension": ".py",
   "mimetype": "text/x-python",
   "name": "python",
   "nbconvert_exporter": "python",
   "pygments_lexer": "ipython3",
   "version": "3.5.2+"
  }
 },
 "nbformat": 4,
 "nbformat_minor": 0
}
